{
 "cells": [
  {
   "cell_type": "code",
   "execution_count": 1,
   "metadata": {},
   "outputs": [],
   "source": [
    "import numpy as np\n",
    "from datascience import *\n",
    "%matplotlib inline\n",
    "import matplotlib.pyplot as plots\n",
    "plots.style.use('fivethirtyeight')\n",
    "import warnings\n",
    "warnings.simplefilter(action=\"ignore\", category=FutureWarning)"
   ]
  },
  {
   "cell_type": "code",
   "execution_count": 4,
   "metadata": {},
   "outputs": [
    {
     "data": {
      "text/plain": [
       "6384600.0"
      ]
     },
     "execution_count": 4,
     "metadata": {},
     "output_type": "execute_result"
    }
   ],
   "source": [
    "sec_in_day = 60*60*24\n",
    "sec_in_june = sec_in_day * 30\n",
    "sec_in_period = sec_in_day * 73 + (60*60*21.5)\n",
    "sec_in_june\n",
    "sec_in_period"
   ]
  },
  {
   "cell_type": "code",
   "execution_count": 5,
   "metadata": {},
   "outputs": [
    {
     "data": {
      "text/html": [
       "<table border=\"1\" class=\"dataframe\">\n",
       "    <thead>\n",
       "        <tr>\n",
       "            <th>Population</th>\n",
       "        </tr>\n",
       "    </thead>\n",
       "    <tbody>\n",
       "        <tr>\n",
       "            <td>7256490011</td>\n",
       "        </tr>\n",
       "    </tbody>\n",
       "</table>"
      ],
      "text/plain": [
       "Population\n",
       "7256490011"
      ]
     },
     "execution_count": 5,
     "metadata": {},
     "output_type": "execute_result"
    }
   ],
   "source": [
    "world_population = Table.read_table('world_population.csv')\n",
    "pop_in_2016 = world_population.take(65)\n",
    "pop_in_2016"
   ]
  },
  {
   "cell_type": "code",
   "execution_count": 6,
   "metadata": {},
   "outputs": [
    {
     "data": {
      "text/html": [
       "<table border=\"1\" class=\"dataframe\">\n",
       "    <thead>\n",
       "        <tr>\n",
       "            <th>Population</th>\n",
       "        </tr>\n",
       "    </thead>\n",
       "    <tbody>\n",
       "        <tr>\n",
       "            <td>2557628654</td>\n",
       "        </tr>\n",
       "    </tbody>\n",
       "</table>"
      ],
      "text/plain": [
       "Population\n",
       "2557628654"
      ]
     },
     "execution_count": 6,
     "metadata": {},
     "output_type": "execute_result"
    }
   ],
   "source": [
    "population_1950 = world_population.take(0)\n",
    "population_1950"
   ]
  },
  {
   "cell_type": "code",
   "execution_count": 8,
   "metadata": {},
   "outputs": [
    {
     "data": {
      "text/plain": [
       "0.401345886044538"
      ]
     },
     "execution_count": 8,
     "metadata": {},
     "output_type": "execute_result"
    }
   ],
   "source": [
    "pop_array = world_population.column(0)\n",
    "change = pop_array[65] - pop_array[0]\n",
    "growth = change ** (1/66) - 1\n",
    "growth"
   ]
  },
  {
   "cell_type": "code",
   "execution_count": 11,
   "metadata": {},
   "outputs": [
    {
     "data": {
      "text/html": [
       "<table border=\"1\" class=\"dataframe\">\n",
       "    <thead>\n",
       "        <tr>\n",
       "            <th>PassengerId</th> <th>Survived</th> <th>passenger_class</th> <th>Name</th> <th>Sex</th> <th>Age</th> <th>SibSp</th> <th>Parch</th> <th>Ticket</th> <th>Fare</th> <th>Cabin</th> <th>Embarked</th>\n",
       "        </tr>\n",
       "    </thead>\n",
       "    <tbody>\n",
       "        <tr>\n",
       "            <td>889        </td> <td>0       </td> <td>3              </td> <td>Johnston, Miss. Catherine Helen \"Carrie\"    </td> <td>female</td> <td>nan </td> <td>1    </td> <td>2    </td> <td>W./C. 6607</td> <td>23.45  </td> <td>nan  </td> <td>S       </td>\n",
       "        </tr>\n",
       "        <tr>\n",
       "            <td>879        </td> <td>0       </td> <td>3              </td> <td>Laleff, Mr. Kristo                          </td> <td>male  </td> <td>nan </td> <td>0    </td> <td>0    </td> <td>349217    </td> <td>7.8958 </td> <td>nan  </td> <td>S       </td>\n",
       "        </tr>\n",
       "        <tr>\n",
       "            <td>869        </td> <td>0       </td> <td>3              </td> <td>van Melkebeke, Mr. Philemon                 </td> <td>male  </td> <td>nan </td> <td>0    </td> <td>0    </td> <td>345777    </td> <td>9.5    </td> <td>nan  </td> <td>S       </td>\n",
       "        </tr>\n",
       "        <tr>\n",
       "            <td>864        </td> <td>0       </td> <td>3              </td> <td>Sage, Miss. Dorothy Edith \"Dolly\"           </td> <td>female</td> <td>nan </td> <td>8    </td> <td>2    </td> <td>CA. 2343  </td> <td>69.55  </td> <td>nan  </td> <td>S       </td>\n",
       "        </tr>\n",
       "        <tr>\n",
       "            <td>860        </td> <td>0       </td> <td>3              </td> <td>Razi, Mr. Raihed                            </td> <td>male  </td> <td>nan </td> <td>0    </td> <td>0    </td> <td>2629      </td> <td>7.2292 </td> <td>nan  </td> <td>C       </td>\n",
       "        </tr>\n",
       "        <tr>\n",
       "            <td>850        </td> <td>1       </td> <td>1              </td> <td>Goldenberg, Mrs. Samuel L (Edwiga Grabowska)</td> <td>female</td> <td>nan </td> <td>1    </td> <td>0    </td> <td>17453     </td> <td>89.1042</td> <td>C92  </td> <td>C       </td>\n",
       "        </tr>\n",
       "        <tr>\n",
       "            <td>847        </td> <td>0       </td> <td>3              </td> <td>Sage, Mr. Douglas Bullen                    </td> <td>male  </td> <td>nan </td> <td>8    </td> <td>2    </td> <td>CA. 2343  </td> <td>69.55  </td> <td>nan  </td> <td>S       </td>\n",
       "        </tr>\n",
       "        <tr>\n",
       "            <td>840        </td> <td>1       </td> <td>1              </td> <td>Marechal, Mr. Pierre                        </td> <td>male  </td> <td>nan </td> <td>0    </td> <td>0    </td> <td>11774     </td> <td>29.7   </td> <td>C47  </td> <td>C       </td>\n",
       "        </tr>\n",
       "        <tr>\n",
       "            <td>838        </td> <td>0       </td> <td>3              </td> <td>Sirota, Mr. Maurice                         </td> <td>male  </td> <td>nan </td> <td>0    </td> <td>0    </td> <td>392092    </td> <td>8.05   </td> <td>nan  </td> <td>S       </td>\n",
       "        </tr>\n",
       "        <tr>\n",
       "            <td>833        </td> <td>0       </td> <td>3              </td> <td>Saad, Mr. Amin                              </td> <td>male  </td> <td>nan </td> <td>0    </td> <td>0    </td> <td>2671      </td> <td>7.2292 </td> <td>nan  </td> <td>C       </td>\n",
       "        </tr>\n",
       "    </tbody>\n",
       "</table>\n",
       "<p>... (881 rows omitted)</p>"
      ],
      "text/plain": [
       "PassengerId | Survived | passenger_class | Name                                         | Sex    | Age  | SibSp | Parch | Ticket     | Fare    | Cabin | Embarked\n",
       "889         | 0        | 3               | Johnston, Miss. Catherine Helen \"Carrie\"     | female | nan  | 1     | 2     | W./C. 6607 | 23.45   | nan   | S\n",
       "879         | 0        | 3               | Laleff, Mr. Kristo                           | male   | nan  | 0     | 0     | 349217     | 7.8958  | nan   | S\n",
       "869         | 0        | 3               | van Melkebeke, Mr. Philemon                  | male   | nan  | 0     | 0     | 345777     | 9.5     | nan   | S\n",
       "864         | 0        | 3               | Sage, Miss. Dorothy Edith \"Dolly\"            | female | nan  | 8     | 2     | CA. 2343   | 69.55   | nan   | S\n",
       "860         | 0        | 3               | Razi, Mr. Raihed                             | male   | nan  | 0     | 0     | 2629       | 7.2292  | nan   | C\n",
       "850         | 1        | 1               | Goldenberg, Mrs. Samuel L (Edwiga Grabowska) | female | nan  | 1     | 0     | 17453      | 89.1042 | C92   | C\n",
       "847         | 0        | 3               | Sage, Mr. Douglas Bullen                     | male   | nan  | 8     | 2     | CA. 2343   | 69.55   | nan   | S\n",
       "840         | 1        | 1               | Marechal, Mr. Pierre                         | male   | nan  | 0     | 0     | 11774      | 29.7    | C47   | C\n",
       "838         | 0        | 3               | Sirota, Mr. Maurice                          | male   | nan  | 0     | 0     | 392092     | 8.05    | nan   | S\n",
       "833         | 0        | 3               | Saad, Mr. Amin                               | male   | nan  | 0     | 0     | 2671       | 7.2292  | nan   | C\n",
       "... (881 rows omitted)"
      ]
     },
     "execution_count": 11,
     "metadata": {},
     "output_type": "execute_result"
    }
   ],
   "source": [
    "data = 'https://raw.githubusercontent.com/oikobill/Kaggle/master/Titanic/data/train.csv'\n",
    "titanic = Table.read_table(data)\n",
    "titanic = titanic.relabeled('Pclass', 'passenger_class')\n",
    "siblings = titanic.column(6)\n",
    "children = titanic.column(7)\n",
    "famsize = titanic.with_column('family_size',siblings+children)\n",
    "famsize\n",
    "youngest = titanic.sort('Age')\n",
    "youngest\n",
    "oldest = titanic.sort('Age', descending = True)\n",
    "oldest"
   ]
  }
 ],
 "metadata": {
  "kernelspec": {
   "display_name": "Python 3",
   "language": "python",
   "name": "python3"
  },
  "language_info": {
   "codemirror_mode": {
    "name": "ipython",
    "version": 3
   },
   "file_extension": ".py",
   "mimetype": "text/x-python",
   "name": "python",
   "nbconvert_exporter": "python",
   "pygments_lexer": "ipython3",
   "version": "3.6.5"
  }
 },
 "nbformat": 4,
 "nbformat_minor": 2
}
