{
 "cells": [
  {
   "cell_type": "markdown",
   "metadata": {},
   "source": [
    "1) The tips.csv dataset contains data on tips collected from a restaurant."
   ]
  },
  {
   "cell_type": "code",
   "execution_count": 1,
   "metadata": {},
   "outputs": [
    {
     "data": {
      "text/html": [
       "<table border=\"1\" class=\"dataframe\">\n",
       "    <thead>\n",
       "        <tr>\n",
       "            <th>total_bill</th> <th>tip</th> <th>sex</th> <th>smoker</th> <th>day</th> <th>time</th> <th>size</th>\n",
       "        </tr>\n",
       "    </thead>\n",
       "    <tbody>\n",
       "        <tr>\n",
       "            <td>16.99     </td> <td>1.01</td> <td>Female</td> <td>No    </td> <td>Sun </td> <td>Dinner</td> <td>2   </td>\n",
       "        </tr>\n",
       "        <tr>\n",
       "            <td>10.34     </td> <td>1.66</td> <td>Male  </td> <td>No    </td> <td>Sun </td> <td>Dinner</td> <td>3   </td>\n",
       "        </tr>\n",
       "        <tr>\n",
       "            <td>21.01     </td> <td>3.5 </td> <td>Male  </td> <td>No    </td> <td>Sun </td> <td>Dinner</td> <td>3   </td>\n",
       "        </tr>\n",
       "        <tr>\n",
       "            <td>23.68     </td> <td>3.31</td> <td>Male  </td> <td>No    </td> <td>Sun </td> <td>Dinner</td> <td>2   </td>\n",
       "        </tr>\n",
       "        <tr>\n",
       "            <td>24.59     </td> <td>3.61</td> <td>Female</td> <td>No    </td> <td>Sun </td> <td>Dinner</td> <td>4   </td>\n",
       "        </tr>\n",
       "        <tr>\n",
       "            <td>25.29     </td> <td>4.71</td> <td>Male  </td> <td>No    </td> <td>Sun </td> <td>Dinner</td> <td>4   </td>\n",
       "        </tr>\n",
       "        <tr>\n",
       "            <td>8.77      </td> <td>2   </td> <td>Male  </td> <td>No    </td> <td>Sun </td> <td>Dinner</td> <td>2   </td>\n",
       "        </tr>\n",
       "        <tr>\n",
       "            <td>26.88     </td> <td>3.12</td> <td>Male  </td> <td>No    </td> <td>Sun </td> <td>Dinner</td> <td>4   </td>\n",
       "        </tr>\n",
       "        <tr>\n",
       "            <td>15.04     </td> <td>1.96</td> <td>Male  </td> <td>No    </td> <td>Sun </td> <td>Dinner</td> <td>2   </td>\n",
       "        </tr>\n",
       "        <tr>\n",
       "            <td>14.78     </td> <td>3.23</td> <td>Male  </td> <td>No    </td> <td>Sun </td> <td>Dinner</td> <td>2   </td>\n",
       "        </tr>\n",
       "    </tbody>\n",
       "</table>\n",
       "<p>... (234 rows omitted)</p>"
      ],
      "text/plain": [
       "total_bill | tip  | sex    | smoker | day  | time   | size\n",
       "16.99      | 1.01 | Female | No     | Sun  | Dinner | 2\n",
       "10.34      | 1.66 | Male   | No     | Sun  | Dinner | 3\n",
       "21.01      | 3.5  | Male   | No     | Sun  | Dinner | 3\n",
       "23.68      | 3.31 | Male   | No     | Sun  | Dinner | 2\n",
       "24.59      | 3.61 | Female | No     | Sun  | Dinner | 4\n",
       "25.29      | 4.71 | Male   | No     | Sun  | Dinner | 4\n",
       "8.77       | 2    | Male   | No     | Sun  | Dinner | 2\n",
       "26.88      | 3.12 | Male   | No     | Sun  | Dinner | 4\n",
       "15.04      | 1.96 | Male   | No     | Sun  | Dinner | 2\n",
       "14.78      | 3.23 | Male   | No     | Sun  | Dinner | 2\n",
       "... (234 rows omitted)"
      ]
     },
     "execution_count": 1,
     "metadata": {},
     "output_type": "execute_result"
    }
   ],
   "source": [
    "import numpy as np\n",
    "from datascience import *\n",
    "%matplotlib inline\n",
    "import matplotlib.pyplot as plots\n",
    "plots.style.use('fivethirtyeight')\n",
    "import warnings\n",
    "warnings.simplefilter(action=\"ignore\", category=FutureWarning)\n",
    "\n",
    "tips = Table.read_table('Data/Data/tips.csv')\n",
    "tips"
   ]
  },
  {
   "cell_type": "markdown",
   "metadata": {},
   "source": [
    "a. Find the mean tip broken down by sex. On one plot, build a histogram of tips for\n",
    "males overlaid with a histogram of tips for females. Discuss what you found."
   ]
  },
  {
   "cell_type": "code",
   "execution_count": 2,
   "metadata": {},
   "outputs": [
    {
     "data": {
      "text/html": [
       "<table border=\"1\" class=\"dataframe\">\n",
       "    <thead>\n",
       "        <tr>\n",
       "            <th>sex</th> <th>tip mean</th>\n",
       "        </tr>\n",
       "    </thead>\n",
       "    <tbody>\n",
       "        <tr>\n",
       "            <td>Female</td> <td>2.83345 </td>\n",
       "        </tr>\n",
       "        <tr>\n",
       "            <td>Male  </td> <td>3.08962 </td>\n",
       "        </tr>\n",
       "    </tbody>\n",
       "</table>"
      ],
      "text/plain": [
       "sex    | tip mean\n",
       "Female | 2.83345\n",
       "Male   | 3.08962"
      ]
     },
     "execution_count": 2,
     "metadata": {},
     "output_type": "execute_result"
    }
   ],
   "source": [
    "mean_tip = tips.select('sex','tip').group('sex', np.mean)\n",
    "mean_tip"
   ]
  },
  {
   "cell_type": "code",
   "execution_count": 3,
   "metadata": {
    "scrolled": true
   },
   "outputs": [
    {
     "name": "stderr",
     "output_type": "stream",
     "text": [
      "C:\\Users\\C20Kelly.Grier\\AppData\\Local\\Continuum\\anaconda3\\lib\\site-packages\\matplotlib\\axes\\_axes.py:6462: UserWarning: The 'normed' kwarg is deprecated, and has been replaced by the 'density' kwarg.\n",
      "  warnings.warn(\"The 'normed' kwarg is deprecated, and has been \"\n"
     ]
    },
    {
     "data": {
      "image/png": "[encoded data removed]",
      "text/plain": [
       "<Figure size 432x288 with 1 Axes>"
      ]
     },
     "metadata": {},
     "output_type": "display_data"
    }
   ],
   "source": [
    "tips.hist('tip', group='sex', unit = 'sex')"
   ]
  },
  {
   "cell_type": "markdown",
   "metadata": {},
   "source": [
    "This histogram shows that females get more tips than males. But, the amount of tip does not largely vary by gender."
   ]
  },
  {
   "cell_type": "markdown",
   "metadata": {},
   "source": [
    "b. Repeat part a, but broken down by time."
   ]
  },
  {
   "cell_type": "code",
   "execution_count": 13,
   "metadata": {},
   "outputs": [
    {
     "data": {
      "text/html": [
       "<table border=\"1\" class=\"dataframe\">\n",
       "    <thead>\n",
       "        <tr>\n",
       "            <th>time</th> <th>tip mean</th>\n",
       "        </tr>\n",
       "    </thead>\n",
       "    <tbody>\n",
       "        <tr>\n",
       "            <td>Dinner</td> <td>3.10267 </td>\n",
       "        </tr>\n",
       "        <tr>\n",
       "            <td>Lunch </td> <td>2.72809 </td>\n",
       "        </tr>\n",
       "    </tbody>\n",
       "</table>"
      ],
      "text/plain": [
       "time   | tip mean\n",
       "Dinner | 3.10267\n",
       "Lunch  | 2.72809"
      ]
     },
     "execution_count": 13,
     "metadata": {},
     "output_type": "execute_result"
    }
   ],
   "source": [
    "mean_time = tips.select('time', 'tip').group('time', np.mean)\n",
    "mean_time"
   ]
  },
  {
   "cell_type": "code",
   "execution_count": 21,
   "metadata": {},
   "outputs": [
    {
     "name": "stderr",
     "output_type": "stream",
     "text": [
      "C:\\Users\\C20Kelly.Grier\\AppData\\Local\\Continuum\\anaconda3\\lib\\site-packages\\matplotlib\\axes\\_axes.py:6462: UserWarning: The 'normed' kwarg is deprecated, and has been replaced by the 'density' kwarg.\n",
      "  warnings.warn(\"The 'normed' kwarg is deprecated, and has been \"\n"
     ]
    },
    {
     "data": {
      "image/png": "[encoded data removed]",
      "text/plain": [
       "<Figure size 432x288 with 1 Axes>"
      ]
     },
     "metadata": {},
     "output_type": "display_data"
    }
   ],
   "source": [
    "tips.hist('tip', group='time' , unit = 'time')"
   ]
  },
  {
   "cell_type": "markdown",
   "metadata": {},
   "source": [
    "This histogram shows that people spend more money at dinner time, but that at lunch time the percent is higher on smaller bills."
   ]
  },
  {
   "cell_type": "markdown",
   "metadata": {},
   "source": [
    "2) Create a function called weekday_to_num. This function inputs a string denoting day of\n",
    "the week (Mon, Tues, Wed, Thur, Fri, Sat, Sun), and returns a number (Mon = 1, Tues =\n",
    "2, … Sun = 7)."
   ]
  },
  {
   "cell_type": "code",
   "execution_count": 4,
   "metadata": {},
   "outputs": [
    {
     "name": "stdout",
     "output_type": "stream",
     "text": [
      "1\n",
      "2\n",
      "3\n",
      "4\n",
      "5\n",
      "6\n",
      "7\n"
     ]
    }
   ],
   "source": [
    "def weekday_to_num(day):\n",
    "    \"\"\"\n",
    "    Turn a string representing a weekday into a numerical digit for that day.\n",
    "    \"\"\"\n",
    "    if day == 'Mon':\n",
    "        return 1\n",
    "    elif day == 'Tues':\n",
    "        return 2\n",
    "    elif day == 'Wed':\n",
    "        return 3\n",
    "    elif day == 'Thur':\n",
    "        return 4\n",
    "    elif day == 'Fri':\n",
    "        return 5\n",
    "    elif day == 'Sat':\n",
    "        return 6\n",
    "    elif day == 'Sun':\n",
    "        return 7\n",
    "\n",
    "print(weekday_to_num('Mon'))\n",
    "print(weekday_to_num('Tues'))\n",
    "print(weekday_to_num('Wed'))\n",
    "print(weekday_to_num('Thur'))\n",
    "print(weekday_to_num('Fri'))\n",
    "print(weekday_to_num('Sat'))\n",
    "print(weekday_to_num('Sun'))"
   ]
  },
  {
   "cell_type": "markdown",
   "metadata": {},
   "source": [
    "3) Apply this function to the day column of tips and include the result as a new column in\n",
    "tips, called weekday_num."
   ]
  },
  {
   "cell_type": "code",
   "execution_count": 5,
   "metadata": {},
   "outputs": [
    {
     "data": {
      "text/html": [
       "<table border=\"1\" class=\"dataframe\">\n",
       "    <thead>\n",
       "        <tr>\n",
       "            <th>total_bill</th> <th>tip</th> <th>sex</th> <th>smoker</th> <th>day</th> <th>time</th> <th>size</th> <th>weekday_num</th>\n",
       "        </tr>\n",
       "    </thead>\n",
       "    <tbody>\n",
       "        <tr>\n",
       "            <td>16.99     </td> <td>1.01</td> <td>Female</td> <td>No    </td> <td>Sun </td> <td>Dinner</td> <td>2   </td> <td>7          </td>\n",
       "        </tr>\n",
       "        <tr>\n",
       "            <td>10.34     </td> <td>1.66</td> <td>Male  </td> <td>No    </td> <td>Sun </td> <td>Dinner</td> <td>3   </td> <td>7          </td>\n",
       "        </tr>\n",
       "        <tr>\n",
       "            <td>21.01     </td> <td>3.5 </td> <td>Male  </td> <td>No    </td> <td>Sun </td> <td>Dinner</td> <td>3   </td> <td>7          </td>\n",
       "        </tr>\n",
       "        <tr>\n",
       "            <td>23.68     </td> <td>3.31</td> <td>Male  </td> <td>No    </td> <td>Sun </td> <td>Dinner</td> <td>2   </td> <td>7          </td>\n",
       "        </tr>\n",
       "        <tr>\n",
       "            <td>24.59     </td> <td>3.61</td> <td>Female</td> <td>No    </td> <td>Sun </td> <td>Dinner</td> <td>4   </td> <td>7          </td>\n",
       "        </tr>\n",
       "        <tr>\n",
       "            <td>25.29     </td> <td>4.71</td> <td>Male  </td> <td>No    </td> <td>Sun </td> <td>Dinner</td> <td>4   </td> <td>7          </td>\n",
       "        </tr>\n",
       "        <tr>\n",
       "            <td>8.77      </td> <td>2   </td> <td>Male  </td> <td>No    </td> <td>Sun </td> <td>Dinner</td> <td>2   </td> <td>7          </td>\n",
       "        </tr>\n",
       "        <tr>\n",
       "            <td>26.88     </td> <td>3.12</td> <td>Male  </td> <td>No    </td> <td>Sun </td> <td>Dinner</td> <td>4   </td> <td>7          </td>\n",
       "        </tr>\n",
       "        <tr>\n",
       "            <td>15.04     </td> <td>1.96</td> <td>Male  </td> <td>No    </td> <td>Sun </td> <td>Dinner</td> <td>2   </td> <td>7          </td>\n",
       "        </tr>\n",
       "        <tr>\n",
       "            <td>14.78     </td> <td>3.23</td> <td>Male  </td> <td>No    </td> <td>Sun </td> <td>Dinner</td> <td>2   </td> <td>7          </td>\n",
       "        </tr>\n",
       "    </tbody>\n",
       "</table>\n",
       "<p>... (234 rows omitted)</p>"
      ],
      "text/plain": [
       "total_bill | tip  | sex    | smoker | day  | time   | size | weekday_num\n",
       "16.99      | 1.01 | Female | No     | Sun  | Dinner | 2    | 7\n",
       "10.34      | 1.66 | Male   | No     | Sun  | Dinner | 3    | 7\n",
       "21.01      | 3.5  | Male   | No     | Sun  | Dinner | 3    | 7\n",
       "23.68      | 3.31 | Male   | No     | Sun  | Dinner | 2    | 7\n",
       "24.59      | 3.61 | Female | No     | Sun  | Dinner | 4    | 7\n",
       "25.29      | 4.71 | Male   | No     | Sun  | Dinner | 4    | 7\n",
       "8.77       | 2    | Male   | No     | Sun  | Dinner | 2    | 7\n",
       "26.88      | 3.12 | Male   | No     | Sun  | Dinner | 4    | 7\n",
       "15.04      | 1.96 | Male   | No     | Sun  | Dinner | 2    | 7\n",
       "14.78      | 3.23 | Male   | No     | Sun  | Dinner | 2    | 7\n",
       "... (234 rows omitted)"
      ]
     },
     "execution_count": 5,
     "metadata": {},
     "output_type": "execute_result"
    }
   ],
   "source": [
    "new_tips = tips.apply(weekday_to_num, 'day')\n",
    "new_tips\n",
    "weekday_tips = tips.with_column('weekday_num', new_tips)\n",
    "weekday_tips"
   ]
  },
  {
   "cell_type": "markdown",
   "metadata": {},
   "source": [
    "4) Create a function called est_tip. The goal of this function is to predict tip amount\n",
    "based on the value of the bill (total_bill). To do this, we will look at “nearby” values\n",
    "(i.e. tip, where the value of total_bill is near the value of interest.) For example, if\n",
    "we want to predict the tip for total bill value of $20, we will simply look at all total bills\n",
    "near $20 and average the tip amount. The input of est_tip should be the total bill\n",
    "amount and the window, or the difference in total bill we would consider “nearby”. For\n",
    "example, for a window of $1, we will look at all bills totaling $19 thru $21. The output of\n",
    "this function will be the predicted tip amount."
   ]
  },
  {
   "cell_type": "code",
   "execution_count": 6,
   "metadata": {},
   "outputs": [
    {
     "data": {
      "text/plain": [
       "3.143333333333333"
      ]
     },
     "execution_count": 6,
     "metadata": {},
     "output_type": "execute_result"
    }
   ],
   "source": [
    "def est_tip(bill, window):\n",
    "    '''\n",
    "    Predict tip amount for a bill\n",
    "    '''\n",
    "    return tips.where('total_bill', are.between(bill-window, bill+window)).column('tip').mean()\n",
    "\n",
    "est_tip(20,1)"
   ]
  },
  {
   "cell_type": "markdown",
   "metadata": {},
   "source": [
    "5) Apply this function to the total_bill column of tips and include the result as a new\n",
    "column in tips. Build a scatterplot showing predicted tip amount overlaid with actual tip\n",
    "amount."
   ]
  },
  {
   "cell_type": "code",
   "execution_count": 8,
   "metadata": {},
   "outputs": [
    {
     "data": {
      "text/html": [
       "<table border=\"1\" class=\"dataframe\">\n",
       "    <thead>\n",
       "        <tr>\n",
       "            <th>total_bill</th> <th>tip</th> <th>sex</th> <th>smoker</th> <th>day</th> <th>time</th> <th>size</th> <th>estimated_tip</th>\n",
       "        </tr>\n",
       "    </thead>\n",
       "    <tbody>\n",
       "        <tr>\n",
       "            <td>16.99     </td> <td>1.01</td> <td>Female</td> <td>No    </td> <td>Sun </td> <td>Dinner</td> <td>2   </td> <td>2.80618      </td>\n",
       "        </tr>\n",
       "        <tr>\n",
       "            <td>10.34     </td> <td>1.66</td> <td>Male  </td> <td>No    </td> <td>Sun </td> <td>Dinner</td> <td>3   </td> <td>1.90276      </td>\n",
       "        </tr>\n",
       "        <tr>\n",
       "            <td>21.01     </td> <td>3.5 </td> <td>Male  </td> <td>No    </td> <td>Sun </td> <td>Dinner</td> <td>3   </td> <td>3.19508      </td>\n",
       "        </tr>\n",
       "        <tr>\n",
       "            <td>23.68     </td> <td>3.31</td> <td>Male  </td> <td>No    </td> <td>Sun </td> <td>Dinner</td> <td>2   </td> <td>3.57681      </td>\n",
       "        </tr>\n",
       "        <tr>\n",
       "            <td>24.59     </td> <td>3.61</td> <td>Female</td> <td>No    </td> <td>Sun </td> <td>Dinner</td> <td>4   </td> <td>3.6575       </td>\n",
       "        </tr>\n",
       "        <tr>\n",
       "            <td>25.29     </td> <td>4.71</td> <td>Male  </td> <td>No    </td> <td>Sun </td> <td>Dinner</td> <td>4   </td> <td>3.67526      </td>\n",
       "        </tr>\n",
       "        <tr>\n",
       "            <td>8.77      </td> <td>2   </td> <td>Male  </td> <td>No    </td> <td>Sun </td> <td>Dinner</td> <td>2   </td> <td>1.86857      </td>\n",
       "        </tr>\n",
       "        <tr>\n",
       "            <td>26.88     </td> <td>3.12</td> <td>Male  </td> <td>No    </td> <td>Sun </td> <td>Dinner</td> <td>4   </td> <td>3.72424      </td>\n",
       "        </tr>\n",
       "        <tr>\n",
       "            <td>15.04     </td> <td>1.96</td> <td>Male  </td> <td>No    </td> <td>Sun </td> <td>Dinner</td> <td>2   </td> <td>2.54036      </td>\n",
       "        </tr>\n",
       "        <tr>\n",
       "            <td>14.78     </td> <td>3.23</td> <td>Male  </td> <td>No    </td> <td>Sun </td> <td>Dinner</td> <td>2   </td> <td>2.46231      </td>\n",
       "        </tr>\n",
       "    </tbody>\n",
       "</table>\n",
       "<p>... (234 rows omitted)</p>"
      ],
      "text/plain": [
       "total_bill | tip  | sex    | smoker | day  | time   | size | estimated_tip\n",
       "16.99      | 1.01 | Female | No     | Sun  | Dinner | 2    | 2.80618\n",
       "10.34      | 1.66 | Male   | No     | Sun  | Dinner | 3    | 1.90276\n",
       "21.01      | 3.5  | Male   | No     | Sun  | Dinner | 3    | 3.19508\n",
       "23.68      | 3.31 | Male   | No     | Sun  | Dinner | 2    | 3.57681\n",
       "24.59      | 3.61 | Female | No     | Sun  | Dinner | 4    | 3.6575\n",
       "25.29      | 4.71 | Male   | No     | Sun  | Dinner | 4    | 3.67526\n",
       "8.77       | 2    | Male   | No     | Sun  | Dinner | 2    | 1.86857\n",
       "26.88      | 3.12 | Male   | No     | Sun  | Dinner | 4    | 3.72424\n",
       "15.04      | 1.96 | Male   | No     | Sun  | Dinner | 2    | 2.54036\n",
       "14.78      | 3.23 | Male   | No     | Sun  | Dinner | 2    | 2.46231\n",
       "... (234 rows omitted)"
      ]
     },
     "execution_count": 8,
     "metadata": {},
     "output_type": "execute_result"
    }
   ],
   "source": [
    "bill_tip = tips.apply(est_tip, 'total_bill', 1)\n",
    "tips3 = tips.with_column('estimated_tip', bill_tip)\n",
    "tips3"
   ]
  },
  {
   "cell_type": "code",
   "execution_count": 13,
   "metadata": {},
   "outputs": [
    {
     "data": {
      "image/png": "[encoded data removed]",
      "text/plain": [
       "<Figure size 360x360 with 1 Axes>"
      ]
     },
     "metadata": {},
     "output_type": "display_data"
    }
   ],
   "source": [
    "tips3.select('total_bill','tip','estimated_tip').scatter('total_bill')"
   ]
  }
 ],
 "metadata": {
  "kernelspec": {
   "display_name": "Python 3",
   "language": "python",
   "name": "python3"
  },
  "language_info": {
   "codemirror_mode": {
    "name": "ipython",
    "version": 3
   },
   "file_extension": ".py",
   "mimetype": "text/x-python",
   "name": "python",
   "nbconvert_exporter": "python",
   "pygments_lexer": "ipython3",
   "version": "3.6.5"
  }
 },
 "nbformat": 4,
 "nbformat_minor": 2
}
