{
 "cells": [
  {
   "cell_type": "markdown",
   "metadata": {},
   "source": [
    "1) Create 3 variables for name (first and last), age and hometown. Assign to these\n",
    "variables your own name, age and hometown. Now, recreate the following sentence\n",
    "using variable assignment and the ‘print’ command in Python:\n",
    "“I am &lt;Your name here&gt;. I am &lt;age&gt; years old. I’m from &lt;hometown&gt;”"
   ]
  },
  {
   "cell_type": "code",
   "execution_count": 6,
   "metadata": {},
   "outputs": [
    {
     "name": "stdout",
     "output_type": "stream",
     "text": [
      "I am Kelly Grier. I am 20 years old. I'm from Parker.\n"
     ]
    }
   ],
   "source": [
    "name_first = \"Kelly\"\n",
    "name_last = \"Grier\"\n",
    "age= \"20\"\n",
    "hometown= \"Parker\"\n",
    "print(\"I am \" + name_first + \" \" +name_last + \".\" + \" I am \" + age +\" years old. I'm from \" + hometown +\".\")"
   ]
  },
  {
   "cell_type": "markdown",
   "metadata": {},
   "source": [
    "Now, use a string method to make your name lower case. Print the all lower case\n",
    "version of your name."
   ]
  },
  {
   "cell_type": "code",
   "execution_count": 7,
   "metadata": {},
   "outputs": [
    {
     "name": "stdout",
     "output_type": "stream",
     "text": [
      "kelly grier\n"
     ]
    }
   ],
   "source": [
    "print(name_first.lower() + \" \" + name_last.lower())"
   ]
  },
  {
   "cell_type": "markdown",
   "metadata": {},
   "source": [
    " Now use a string method to make your full name a proper noun. Print this version of\n",
    "your name."
   ]
  },
  {
   "cell_type": "code",
   "execution_count": 8,
   "metadata": {},
   "outputs": [
    {
     "name": "stdout",
     "output_type": "stream",
     "text": [
      "Kelly Grier\n"
     ]
    }
   ],
   "source": [
    "print(name_first.title() + \" \"+ name_last.title())"
   ]
  },
  {
   "cell_type": "markdown",
   "metadata": {},
   "source": [
    "Using the ‘replace’ method, replace all “I am” with “he is” or “she is” and all “I’m” with\n",
    "“he’s” or “she’s”."
   ]
  },
  {
   "cell_type": "code",
   "execution_count": 12,
   "metadata": {},
   "outputs": [
    {
     "name": "stdout",
     "output_type": "stream",
     "text": [
      "She is Kelly Grier. She is 20 years old. She's from Parker.\n"
     ]
    }
   ],
   "source": [
    "first_sentence = \"I am \" + name_first + \" \" +name_last + \".\" + \" I am \" + age +\" years old. I'm from \" + hometown +\".\"\n",
    "new_sentence = first_sentence.replace(\"I am\", \"She is\").replace(\"I'm\", \"She's\")\n",
    "print(new_sentence)"
   ]
  },
  {
   "cell_type": "markdown",
   "metadata": {},
   "source": [
    "Return a boolean response indicating whether the length of your original sentence (in\n",
    "#1) is greater than your age plus 40."
   ]
  },
  {
   "cell_type": "code",
   "execution_count": 18,
   "metadata": {},
   "outputs": [
    {
     "name": "stdout",
     "output_type": "stream",
     "text": [
      "53\n",
      "60\n",
      "False\n"
     ]
    }
   ],
   "source": [
    "length = len(first_sentence)\n",
    "print(length)\n",
    "age_plus = int(age) + 40\n",
    "print(age_plus)\n",
    "print(length > age_plus)"
   ]
  }
 ],
 "metadata": {
  "kernelspec": {
   "display_name": "Python 3",
   "language": "python",
   "name": "python3"
  },
  "language_info": {
   "codemirror_mode": {
    "name": "ipython",
    "version": 3
   },
   "file_extension": ".py",
   "mimetype": "text/x-python",
   "name": "python",
   "nbconvert_exporter": "python",
   "pygments_lexer": "ipython3",
   "version": "3.6.5"
  }
 },
 "nbformat": 4,
 "nbformat_minor": 2
}
